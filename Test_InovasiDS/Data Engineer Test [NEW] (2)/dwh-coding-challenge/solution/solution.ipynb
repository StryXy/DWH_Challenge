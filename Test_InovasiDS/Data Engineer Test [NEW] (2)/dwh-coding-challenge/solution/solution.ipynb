{
 "cells": [
  {
   "cell_type": "code",
   "execution_count": 95,
   "id": "8e1fd069",
   "metadata": {},
   "outputs": [],
   "source": [
    "import pandas as pd\n",
    "import os\n",
    "import json\n",
    "from datetime import datetime"
   ]
  },
  {
   "cell_type": "code",
   "execution_count": 96,
   "id": "e312078c",
   "metadata": {},
   "outputs": [
    {
     "name": "stdout",
     "output_type": "stream",
     "text": [
      "Running locally. Using path: ../data\n"
     ]
    }
   ],
   "source": [
    "pd.set_option('display.max_columns', None)\n",
    "pd.set_option('display.width', 1000)\n",
    "\n",
    "# This code automatically detects if it's running inside our Docker container\n",
    "if os.path.isdir('/app'):\n",
    "    # If the '/app' directory exists, we are in Docker.\n",
    "    print(\"Running inside Docker container. Using path: ./data\")\n",
    "    BASE_DATA_PATH = './data'\n",
    "else:\n",
    "    # Otherwise, we are running locally.\n",
    "    print(\"Running locally. Using path: ../data\")\n",
    "    BASE_DATA_PATH = r'C:\\Users\\ben\\Documents\\Programming\\Python\\Python use sendiri\\Test_InovasiDS\\Data Engineer Test [NEW] (2)\\dwh-coding-challenge\\data'\n",
    "\n",
    "#error handling \n",
    "if not os.path.isdir(BASE_DATA_PATH):\n",
    "    print(f\"ERROR: The path '{BASE_DATA_PATH}' does not exist\")"
   ]
  },
  {
   "cell_type": "code",
   "execution_count": 97,
   "id": "9bcc6e0a",
   "metadata": {},
   "outputs": [],
   "source": [
    "def load_events(table_name: str) -> list:\n",
    "    events = []\n",
    "    directory_path = os.path.join(BASE_DATA_PATH, table_name)\n",
    "\n",
    "    # Check if the directory for the table exists\n",
    "    if not os.path.isdir(directory_path):\n",
    "        print(f\"Warning: Directory not found for table '{table_name}' at {directory_path}\")\n",
    "        return events\n",
    "\n",
    "    # Loop through every file in the directory\n",
    "    for filename in os.listdir(directory_path):\n",
    "        # Process only the files that end with .json\n",
    "        if filename.endswith('.json'):\n",
    "            file_path = os.path.join(directory_path, filename)\n",
    "            with open(file_path, 'r') as f:\n",
    "                # Each file contains a single JSON object, so use json.load()\n",
    "                event_data = json.load(f)\n",
    "                events.append(event_data)\n",
    "\n",
    "    # This ensures they are processed in the correct chronological order.\n",
    "    events.sort(key=lambda x: x['ts'])\n",
    "    return events\n"
   ]
  },
  {
   "cell_type": "code",
   "execution_count": 98,
   "id": "39d6b357",
   "metadata": {},
   "outputs": [],
   "source": [
    "def reconstruct_table(events: list) -> pd.DataFrame:\n",
    "    records = {}\n",
    "    for event in events:\n",
    "        record_id = event['id']\n",
    "        op = event['op']\n",
    "\n",
    "        if op == 'c':\n",
    "            records[record_id] = event['data']\n",
    "            records[record_id]['ts'] = event['ts']\n",
    "        elif op == 'u':\n",
    "            if record_id in records:\n",
    "                records[record_id].update(event['set'])\n",
    "                records[record_id]['ts'] = event['ts']\n",
    "\n",
    "    df = pd.DataFrame.from_dict(records, orient='index')\n",
    "    df.reset_index(inplace=True)\n",
    "    df.rename(columns={'index': 'id'}, inplace=True)\n",
    "    return df\n"
   ]
  },
  {
   "cell_type": "code",
   "execution_count": 99,
   "id": "6d21528f",
   "metadata": {},
   "outputs": [],
   "source": [
    "def display_formatted_df(df, title):\n",
    "    print(f\"\\n--- {title} ---\")\n",
    "    \n",
    "    if df.empty:\n",
    "        print(\"Table is empty.\")\n",
    "        return\n",
    "\n",
    "    # Create a copy\n",
    "    styled_df = df.copy()\n",
    "\n",
    "    # Convert any column ending with 'ts' from milliseconds to datetime strings\n",
    "    for col in styled_df.columns:\n",
    "        if col.endswith('ts'):\n",
    "            # pd.to_numeric is important in case some values are missing (NaN)\n",
    "            styled_df[col] = pd.to_numeric(styled_df[col], errors='coerce')\n",
    "            styled_df[col] = pd.to_datetime(styled_df[col], unit='ms').dt.strftime('%Y-%m-%d %H:%M:%S')\n",
    "\n",
    "    # Replace any missing values for a cleaner look in the terminal\n",
    "    if os.path.isdir('/app'): #display for docker terminal\n",
    "        styled_df.fillna('N/A', inplace=True)\n",
    "        print(styled_df.to_string(index=False))\n",
    "    else: #display for local jupyter notebook\n",
    "        styler = styled_df.style.set_caption(f\"<h3>{title}</h3>\").hide(axis='index').format(\n",
    "            {'credit_used': '{:,.0f}', 'monthly_limit': '{:,.0f}'},\n",
    "            na_rep=\"N/A\"\n",
    "        )\n",
    "        display(styler)"
   ]
  },
  {
   "cell_type": "code",
   "execution_count": 100,
   "id": "8bf24a5f",
   "metadata": {},
   "outputs": [
    {
     "name": "stdout",
     "output_type": "stream",
     "text": [
      "Warning: Directory not found for table 'saving_accounts' at C:\\Users\\ben\\Documents\\Programming\\Python\\Python use sendiri\\Test_InovasiDS\\Data Engineer Test [NEW] (2)\\dwh-coding-challenge\\data\\saving_accounts\n"
     ]
    }
   ],
   "source": [
    "account_events = load_events('accounts')\n",
    "card_events = load_events('cards')\n",
    "saving_account_events = load_events('saving_accounts')"
   ]
  },
  {
   "cell_type": "code",
   "execution_count": 101,
   "id": "8faf8e83",
   "metadata": {},
   "outputs": [
    {
     "name": "stdout",
     "output_type": "stream",
     "text": [
      "## TASK 1: VISUALIZE HISTORICAL TABLES ##\n",
      "\n",
      "--- Historical Accounts Table ---\n"
     ]
    },
    {
     "data": {
      "text/html": [
       "<style type=\"text/css\">\n",
       "</style>\n",
       "<table id=\"T_768dd\">\n",
       "  <caption><h3>Historical Accounts Table</h3></caption>\n",
       "  <thead>\n",
       "    <tr>\n",
       "      <th id=\"T_768dd_level0_col0\" class=\"col_heading level0 col0\" >id</th>\n",
       "      <th id=\"T_768dd_level0_col1\" class=\"col_heading level0 col1\" >account_id</th>\n",
       "      <th id=\"T_768dd_level0_col2\" class=\"col_heading level0 col2\" >name</th>\n",
       "      <th id=\"T_768dd_level0_col3\" class=\"col_heading level0 col3\" >address</th>\n",
       "      <th id=\"T_768dd_level0_col4\" class=\"col_heading level0 col4\" >phone_number</th>\n",
       "      <th id=\"T_768dd_level0_col5\" class=\"col_heading level0 col5\" >email</th>\n",
       "      <th id=\"T_768dd_level0_col6\" class=\"col_heading level0 col6\" >ts</th>\n",
       "      <th id=\"T_768dd_level0_col7\" class=\"col_heading level0 col7\" >savings_account_id</th>\n",
       "      <th id=\"T_768dd_level0_col8\" class=\"col_heading level0 col8\" >card_id</th>\n",
       "    </tr>\n",
       "  </thead>\n",
       "  <tbody>\n",
       "    <tr>\n",
       "      <td id=\"T_768dd_row0_col0\" class=\"data row0 col0\" >a1globalid</td>\n",
       "      <td id=\"T_768dd_row0_col1\" class=\"data row0 col1\" >a1</td>\n",
       "      <td id=\"T_768dd_row0_col2\" class=\"data row0 col2\" >Anthony</td>\n",
       "      <td id=\"T_768dd_row0_col3\" class=\"data row0 col3\" >Jakarta</td>\n",
       "      <td id=\"T_768dd_row0_col4\" class=\"data row0 col4\" >87654321</td>\n",
       "      <td id=\"T_768dd_row0_col5\" class=\"data row0 col5\" >anthony@anotherbank.com</td>\n",
       "      <td id=\"T_768dd_row0_col6\" class=\"data row0 col6\" >2020-01-16 08:30:00</td>\n",
       "      <td id=\"T_768dd_row0_col7\" class=\"data row0 col7\" >sa1</td>\n",
       "      <td id=\"T_768dd_row0_col8\" class=\"data row0 col8\" >c2</td>\n",
       "    </tr>\n",
       "  </tbody>\n",
       "</table>\n"
      ],
      "text/plain": [
       "<pandas.io.formats.style.Styler at 0x1d34cc37680>"
      ]
     },
     "metadata": {},
     "output_type": "display_data"
    },
    {
     "name": "stdout",
     "output_type": "stream",
     "text": [
      "\n",
      "--- Historical Cards Table ---\n"
     ]
    },
    {
     "data": {
      "text/html": [
       "<style type=\"text/css\">\n",
       "</style>\n",
       "<table id=\"T_2758d\">\n",
       "  <caption><h3>Historical Cards Table</h3></caption>\n",
       "  <thead>\n",
       "    <tr>\n",
       "      <th id=\"T_2758d_level0_col0\" class=\"col_heading level0 col0\" >id</th>\n",
       "      <th id=\"T_2758d_level0_col1\" class=\"col_heading level0 col1\" >card_id</th>\n",
       "      <th id=\"T_2758d_level0_col2\" class=\"col_heading level0 col2\" >card_number</th>\n",
       "      <th id=\"T_2758d_level0_col3\" class=\"col_heading level0 col3\" >credit_used</th>\n",
       "      <th id=\"T_2758d_level0_col4\" class=\"col_heading level0 col4\" >monthly_limit</th>\n",
       "      <th id=\"T_2758d_level0_col5\" class=\"col_heading level0 col5\" >status</th>\n",
       "      <th id=\"T_2758d_level0_col6\" class=\"col_heading level0 col6\" >ts</th>\n",
       "    </tr>\n",
       "  </thead>\n",
       "  <tbody>\n",
       "    <tr>\n",
       "      <td id=\"T_2758d_row0_col0\" class=\"data row0 col0\" >c1globalid</td>\n",
       "      <td id=\"T_2758d_row0_col1\" class=\"data row0 col1\" >c1</td>\n",
       "      <td id=\"T_2758d_row0_col2\" class=\"data row0 col2\" >11112222</td>\n",
       "      <td id=\"T_2758d_row0_col3\" class=\"data row0 col3\" >0</td>\n",
       "      <td id=\"T_2758d_row0_col4\" class=\"data row0 col4\" >30,000</td>\n",
       "      <td id=\"T_2758d_row0_col5\" class=\"data row0 col5\" >CLOSED</td>\n",
       "      <td id=\"T_2758d_row0_col6\" class=\"data row0 col6\" >2020-01-15 09:00:00</td>\n",
       "    </tr>\n",
       "    <tr>\n",
       "      <td id=\"T_2758d_row1_col0\" class=\"data row1 col0\" >c2globalid</td>\n",
       "      <td id=\"T_2758d_row1_col1\" class=\"data row1 col1\" >c2</td>\n",
       "      <td id=\"T_2758d_row1_col2\" class=\"data row1 col2\" >12123434</td>\n",
       "      <td id=\"T_2758d_row1_col3\" class=\"data row1 col3\" >37,000</td>\n",
       "      <td id=\"T_2758d_row1_col4\" class=\"data row1 col4\" >70,000</td>\n",
       "      <td id=\"T_2758d_row1_col5\" class=\"data row1 col5\" >ACTIVE</td>\n",
       "      <td id=\"T_2758d_row1_col6\" class=\"data row1 col6\" >2020-01-18 15:30:00</td>\n",
       "    </tr>\n",
       "  </tbody>\n",
       "</table>\n"
      ],
      "text/plain": [
       "<pandas.io.formats.style.Styler at 0x1d34c8d45f0>"
      ]
     },
     "metadata": {},
     "output_type": "display_data"
    },
    {
     "name": "stdout",
     "output_type": "stream",
     "text": [
      "\n",
      "--- Historical Savings Accounts Table ---\n",
      "Table is empty.\n"
     ]
    }
   ],
   "source": [
    "# --- TASK 1: Visualize Historical Tables (IMPROVED) ---\n",
    "print(\"## TASK 1: VISUALIZE HISTORICAL TABLES ##\")\n",
    "accounts_df = reconstruct_table(account_events)\n",
    "cards_df = reconstruct_table(card_events)\n",
    "savings_df = reconstruct_table(saving_account_events)\n",
    "\n",
    "display_formatted_df(accounts_df, \"Historical Accounts Table\")\n",
    "display_formatted_df(cards_df, \"Historical Cards Table\")\n",
    "display_formatted_df(savings_df, \"Historical Savings Accounts Table\")\n"
   ]
  },
  {
   "cell_type": "code",
   "execution_count": 102,
   "id": "1fb05dfe",
   "metadata": {},
   "outputs": [
    {
     "name": "stdout",
     "output_type": "stream",
     "text": [
      "\n",
      "\n",
      "## TASK 2: VISUALIZE DENORMALIZED JOINED TABLE ##\n",
      "\n",
      "--- Complete Denormalized Table ---\n"
     ]
    },
    {
     "data": {
      "text/html": [
       "<style type=\"text/css\">\n",
       "</style>\n",
       "<table id=\"T_342a5\">\n",
       "  <caption><h3>Complete Denormalized Table</h3></caption>\n",
       "  <thead>\n",
       "    <tr>\n",
       "      <th id=\"T_342a5_level0_col0\" class=\"col_heading level0 col0\" >id_account</th>\n",
       "      <th id=\"T_342a5_level0_col1\" class=\"col_heading level0 col1\" >account_id</th>\n",
       "      <th id=\"T_342a5_level0_col2\" class=\"col_heading level0 col2\" >name</th>\n",
       "      <th id=\"T_342a5_level0_col3\" class=\"col_heading level0 col3\" >email</th>\n",
       "      <th id=\"T_342a5_level0_col4\" class=\"col_heading level0 col4\" >phone_number</th>\n",
       "      <th id=\"T_342a5_level0_col5\" class=\"col_heading level0 col5\" >address</th>\n",
       "      <th id=\"T_342a5_level0_col6\" class=\"col_heading level0 col6\" >ts_account</th>\n",
       "      <th id=\"T_342a5_level0_col7\" class=\"col_heading level0 col7\" >card_id</th>\n",
       "      <th id=\"T_342a5_level0_col8\" class=\"col_heading level0 col8\" >card_number</th>\n",
       "      <th id=\"T_342a5_level0_col9\" class=\"col_heading level0 col9\" >credit_used</th>\n",
       "      <th id=\"T_342a5_level0_col10\" class=\"col_heading level0 col10\" >monthly_limit</th>\n",
       "      <th id=\"T_342a5_level0_col11\" class=\"col_heading level0 col11\" >status</th>\n",
       "      <th id=\"T_342a5_level0_col12\" class=\"col_heading level0 col12\" >ts_card</th>\n",
       "      <th id=\"T_342a5_level0_col13\" class=\"col_heading level0 col13\" >savings_account_id</th>\n",
       "    </tr>\n",
       "  </thead>\n",
       "  <tbody>\n",
       "    <tr>\n",
       "      <td id=\"T_342a5_row0_col0\" class=\"data row0 col0\" >a1globalid</td>\n",
       "      <td id=\"T_342a5_row0_col1\" class=\"data row0 col1\" >a1</td>\n",
       "      <td id=\"T_342a5_row0_col2\" class=\"data row0 col2\" >Anthony</td>\n",
       "      <td id=\"T_342a5_row0_col3\" class=\"data row0 col3\" >anthony@anotherbank.com</td>\n",
       "      <td id=\"T_342a5_row0_col4\" class=\"data row0 col4\" >87654321</td>\n",
       "      <td id=\"T_342a5_row0_col5\" class=\"data row0 col5\" >Jakarta</td>\n",
       "      <td id=\"T_342a5_row0_col6\" class=\"data row0 col6\" >1579163400000</td>\n",
       "      <td id=\"T_342a5_row0_col7\" class=\"data row0 col7\" >c2</td>\n",
       "      <td id=\"T_342a5_row0_col8\" class=\"data row0 col8\" >12123434</td>\n",
       "      <td id=\"T_342a5_row0_col9\" class=\"data row0 col9\" >37,000</td>\n",
       "      <td id=\"T_342a5_row0_col10\" class=\"data row0 col10\" >70,000</td>\n",
       "      <td id=\"T_342a5_row0_col11\" class=\"data row0 col11\" >ACTIVE</td>\n",
       "      <td id=\"T_342a5_row0_col12\" class=\"data row0 col12\" >1579361400000</td>\n",
       "      <td id=\"T_342a5_row0_col13\" class=\"data row0 col13\" >sa1</td>\n",
       "    </tr>\n",
       "  </tbody>\n",
       "</table>\n"
      ],
      "text/plain": [
       "<pandas.io.formats.style.Styler at 0x1d34cbbf8f0>"
      ]
     },
     "metadata": {},
     "output_type": "display_data"
    }
   ],
   "source": [
    "# --- TASK 2: Visualize Denormalized Joined Table (IMPROVED) ---\n",
    "print(\"\\n\\n## TASK 2: VISUALIZE DENORMALIZED JOINED TABLE ##\")\n",
    "denormalized_df = pd.merge(\n",
    "    accounts_df,\n",
    "    cards_df,\n",
    "    on='card_id',\n",
    "    how='left',\n",
    "    suffixes=('_account', '_card')\n",
    ")\n",
    "denormalized_df = pd.merge(\n",
    "    denormalized_df,\n",
    "    savings_df,\n",
    "    left_on='savings_account_id',\n",
    "    right_on='id',\n",
    "    how='left',\n",
    "    suffixes=('', '_savings')\n",
    ")\n",
    "\n",
    "# Reorder columns for logical grouping and readability\n",
    "try:\n",
    "    final_columns_order = [\n",
    "        # Account Info\n",
    "        'id_account', 'account_id', 'name', 'email', 'phone_number', 'address', 'ts_account',\n",
    "        # Card Info\n",
    "        'card_id', 'card_number', 'credit_used', 'monthly_limit', 'status', 'ts_card',\n",
    "        # Savings Info\n",
    "        'savings_account_id', 'id_savings', 'ts_savings'\n",
    "    ]\n",
    "    # Filter the list to only include columns that actually exist in the DataFrame\n",
    "    existing_columns = [col for col in final_columns_order if col in denormalized_df.columns]\n",
    "    denormalized_df = denormalized_df[existing_columns]\n",
    "except KeyError:\n",
    "    print(\"Could not reorder columns, some expected columns were not found.\")\n",
    "\n",
    "display_formatted_df(denormalized_df, \"Complete Denormalized Table\")\n",
    "\n"
   ]
  },
  {
   "cell_type": "code",
   "execution_count": 103,
   "id": "368c652b",
   "metadata": {},
   "outputs": [
    {
     "name": "stdout",
     "output_type": "stream",
     "text": [
      "\n",
      "\n",
      "## TASK 3: TRANSACTION ANALYSIS ##\n",
      "Transaction is defined as an activity which changes the balance of the savings account or credit used of the card.\n",
      "\n",
      "--- Analyzing Transactions for 'saving_accounts' ---\n",
      "  No transaction activities found.\n",
      "\n",
      "--- Analyzing Transactions for 'cards' ---\n",
      "  - Transaction detected on 'cards' (ID: c1globalid)\n",
      "    - When: 2020-01-06 19:30:00\n",
      "    - How much: The 'credit_used' was updated to 12000\n",
      "  - Transaction detected on 'cards' (ID: c1globalid)\n",
      "    - When: 2020-01-08 01:00:00\n",
      "    - How much: The 'credit_used' was updated to 19000\n",
      "  - Transaction detected on 'cards' (ID: c1globalid)\n",
      "    - When: 2020-01-10 18:00:00\n",
      "    - How much: The 'credit_used' was updated to 0\n",
      "  - Transaction detected on 'cards' (ID: c2globalid)\n",
      "    - When: 2020-01-18 22:30:00\n",
      "    - How much: The 'credit_used' was updated to 37000\n",
      "\n",
      "Total transactions found in 'cards': 4\n"
     ]
    }
   ],
   "source": [
    "# --- TASK 3: Transaction Analysis (No changes needed) ---\n",
    "\n",
    "def find_transactions(table_name: str, key_field: str, events: list):\n",
    "    print(f\"\\n--- Analyzing Transactions for '{table_name}' ---\")\n",
    "    transaction_count = 0\n",
    "    for event in events:\n",
    "        if event['op'] == 'u' and key_field in event['set']:\n",
    "            transaction_count += 1\n",
    "            record_id = event['id']\n",
    "            timestamp = datetime.fromtimestamp(event['ts'] / 1000).strftime('%Y-%m-%d %H:%M:%S')\n",
    "            value = event['set'][key_field]\n",
    "            print(f\"  - Transaction detected on '{table_name}' (ID: {record_id})\")\n",
    "            print(f\"    - When: {timestamp}\")\n",
    "            print(f\"    - How much: The '{key_field}' was updated to {value}\")\n",
    "    if transaction_count == 0:\n",
    "        print(\"  No transaction activities found.\")\n",
    "    else:\n",
    "        print(f\"\\nTotal transactions found in '{table_name}': {transaction_count}\")\n",
    "\n",
    "print(\"\\n\\n## TASK 3: TRANSACTION ANALYSIS ##\")\n",
    "print(\"Transaction is defined as an activity which changes the balance of the savings account or credit used of the card.\")\n",
    "find_transactions('saving_accounts', 'balance', saving_account_events)\n",
    "find_transactions('cards', 'credit_used', card_events)"
   ]
  }
 ],
 "metadata": {
  "kernelspec": {
   "display_name": "Python 3",
   "language": "python",
   "name": "python3"
  },
  "language_info": {
   "codemirror_mode": {
    "name": "ipython",
    "version": 3
   },
   "file_extension": ".py",
   "mimetype": "text/x-python",
   "name": "python",
   "nbconvert_exporter": "python",
   "pygments_lexer": "ipython3",
   "version": "3.12.0"
  }
 },
 "nbformat": 4,
 "nbformat_minor": 5
}
